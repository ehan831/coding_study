{
 "cells": [
  {
   "cell_type": "markdown",
   "metadata": {},
   "source": [
    "##  데이타 분석\n",
    "\n",
    "데이타 -> 필터링 -> 정제 -> 시각화 -> 분석\n",
    "\n",
    "\n",
    "## 데이타 필터링\n",
    "\n",
    "분석에 필요한 데이타를 거르는 작업 ( 데이타 추출 )\n",
    "\n",
    "1. 열단위 추출 : df['컬럼명']\n",
    "\n",
    "2. 행단위 추출 : df.loc[인덱스명칭] / df.iloc[인덱스위치]\n",
    "\n",
    "    - loc[] : 명칭 기반 인덱싱\n",
    "    - iloc[] : 위치 기반 인덱싱\n",
    "    \n",
    "    현재 인덱스가 글자로 지정되지 않았기에 loc[]/iloc[] 모두 가능\n",
    "    \n",
    "\n",
    "        - loc과 iloc 차이\n",
    "            - df.loc[-1]  # 에러\n",
    "            - df.iloc[-1] # 마지막번호"
   ]
  },
  {
   "cell_type": "code",
   "execution_count": 48,
   "metadata": {},
   "outputs": [
    {
     "data": {
      "text/html": [
       "<div>\n",
       "<style scoped>\n",
       "    .dataframe tbody tr th:only-of-type {\n",
       "        vertical-align: middle;\n",
       "    }\n",
       "\n",
       "    .dataframe tbody tr th {\n",
       "        vertical-align: top;\n",
       "    }\n",
       "\n",
       "    .dataframe thead th {\n",
       "        text-align: right;\n",
       "    }\n",
       "</style>\n",
       "<table border=\"1\" class=\"dataframe\">\n",
       "  <thead>\n",
       "    <tr style=\"text-align: right;\">\n",
       "      <th></th>\n",
       "      <th>President</th>\n",
       "      <th>Age at inauguration</th>\n",
       "      <th>State elected from</th>\n",
       "    </tr>\n",
       "  </thead>\n",
       "  <tbody>\n",
       "    <tr>\n",
       "      <th>0</th>\n",
       "      <td>George Washington</td>\n",
       "      <td>57</td>\n",
       "      <td>Virginia</td>\n",
       "    </tr>\n",
       "    <tr>\n",
       "      <th>13</th>\n",
       "      <td>Abraham Lincoln</td>\n",
       "      <td>52</td>\n",
       "      <td>Illinois</td>\n",
       "    </tr>\n",
       "    <tr>\n",
       "      <th>34</th>\n",
       "      <td>Barack Obama</td>\n",
       "      <td>47</td>\n",
       "      <td>Illinois</td>\n",
       "    </tr>\n",
       "  </tbody>\n",
       "</table>\n",
       "</div>"
      ],
      "text/plain": [
       "            President  Age at inauguration State elected from\n",
       "0   George Washington                   57           Virginia\n",
       "13    Abraham Lincoln                   52           Illinois\n",
       "34       Barack Obama                   47           Illinois"
      ]
     },
     "execution_count": 48,
     "metadata": {},
     "output_type": "execute_result"
    }
   ],
   "source": [
    "# 데이타 추출\n",
    "\n",
    "import pandas as pd\n",
    "\n",
    "df = pd.read_excel('http://qrc.depaul.edu/excel_files/presidents.xlsx')\n",
    "\n",
    "# 1. 열단위 추출\n",
    "# 대통령 이름, 취임 나이, 출신 주 출력\n",
    "# df\n",
    "# df.head(5)[['President', 'Age at inauguration', 'State elected from']]\n",
    "# df.loc[df['President'] == ['George Washington']]\n",
    "df.loc[(df['President'] == 'George Washington')| (df['President'] == 'Abraham Lincoln') | (df['President'] == 'Barack Obama'), ['President', 'Age at inauguration', 'State elected from']]"
   ]
  },
  {
   "cell_type": "code",
   "execution_count": 2,
   "metadata": {
    "scrolled": true
   },
   "outputs": [
    {
     "data": {
      "text/plain": [
       "' \\n    loc[] : 명칭 기반 인덱싱\\n    iloc[] : 위치 기반 인덱싱\\n    \\n    현재 인덱스가 글자로 지정되지 않았기에 loc[]/iloc[] 모두 가능\\n'"
      ]
     },
     "execution_count": 2,
     "metadata": {},
     "output_type": "execute_result"
    }
   ],
   "source": [
    "# 2. 행단위 추출\n",
    "\"\"\" \n",
    "    loc[] : 명칭 기반 인덱싱\n",
    "    iloc[] : 위치 기반 인덱싱\n",
    "    \n",
    "    현재 인덱스가 글자로 지정되지 않았기에 loc[]/iloc[] 모두 가능\n",
    "\"\"\"\n",
    "# (1) loc"
   ]
  },
  {
   "cell_type": "code",
   "execution_count": 52,
   "metadata": {},
   "outputs": [
    {
     "data": {
      "text/plain": [
       "President                        Barack Obama\n",
       "Years in office                           NaN\n",
       "Year first inaugurated                   2009\n",
       "Age at inauguration                        47\n",
       "State elected from                   Illinois\n",
       "# of electoral votes                      365\n",
       "# of popular votes                   69492376\n",
       "National total votes                129438754\n",
       "Total electoral votes                     538\n",
       "Rating points                             NaN\n",
       "Political Party                      Democrat\n",
       "Occupation                             Lawyer\n",
       "College                   Columbia University\n",
       "% electoral                           67.8439\n",
       "% popular                             53.6875\n",
       "Name: 34, dtype: object"
      ]
     },
     "execution_count": 52,
     "metadata": {},
     "output_type": "execute_result"
    }
   ],
   "source": [
    "# (2) iloc\n",
    "df.iloc[-1]"
   ]
  },
  {
   "cell_type": "markdown",
   "metadata": {},
   "source": [
    "마지막행의 데이타 추출"
   ]
  },
  {
   "cell_type": "code",
   "execution_count": 56,
   "metadata": {},
   "outputs": [
    {
     "data": {
      "text/plain": [
       "President                        Barack Obama\n",
       "Years in office                           NaN\n",
       "Year first inaugurated                   2009\n",
       "Age at inauguration                        47\n",
       "State elected from                   Illinois\n",
       "# of electoral votes                      365\n",
       "# of popular votes                   69492376\n",
       "National total votes                129438754\n",
       "Total electoral votes                     538\n",
       "Rating points                             NaN\n",
       "Political Party                      Democrat\n",
       "Occupation                             Lawyer\n",
       "College                   Columbia University\n",
       "% electoral                           67.8439\n",
       "% popular                             53.6875\n",
       "Name: 34, dtype: object"
      ]
     },
     "execution_count": 56,
     "metadata": {},
     "output_type": "execute_result"
    }
   ],
   "source": [
    "df.shape  # (35, 15)\n",
    "df.shape[0] - 1  # 34\n",
    "df.iloc[df.shape[0] - 1]"
   ]
  },
  {
   "cell_type": "code",
   "execution_count": null,
   "metadata": {},
   "outputs": [],
   "source": []
  },
  {
   "cell_type": "markdown",
   "metadata": {},
   "source": [
    "행열 모두 지정하여 추출 \n",
    "\n",
    "- 초대 대통령 10명의 이름과 대학을 추출"
   ]
  },
  {
   "cell_type": "code",
   "execution_count": 51,
   "metadata": {
    "scrolled": true
   },
   "outputs": [
    {
     "data": {
      "text/html": [
       "<div>\n",
       "<style scoped>\n",
       "    .dataframe tbody tr th:only-of-type {\n",
       "        vertical-align: middle;\n",
       "    }\n",
       "\n",
       "    .dataframe tbody tr th {\n",
       "        vertical-align: top;\n",
       "    }\n",
       "\n",
       "    .dataframe thead th {\n",
       "        text-align: right;\n",
       "    }\n",
       "</style>\n",
       "<table border=\"1\" class=\"dataframe\">\n",
       "  <thead>\n",
       "    <tr style=\"text-align: right;\">\n",
       "      <th></th>\n",
       "      <th>President</th>\n",
       "      <th>College</th>\n",
       "    </tr>\n",
       "  </thead>\n",
       "  <tbody>\n",
       "    <tr>\n",
       "      <th>0</th>\n",
       "      <td>George Washington</td>\n",
       "      <td>None</td>\n",
       "    </tr>\n",
       "    <tr>\n",
       "      <th>1</th>\n",
       "      <td>John Adams</td>\n",
       "      <td>Harvard</td>\n",
       "    </tr>\n",
       "    <tr>\n",
       "      <th>2</th>\n",
       "      <td>Thomas Jefferson</td>\n",
       "      <td>William and Mary</td>\n",
       "    </tr>\n",
       "    <tr>\n",
       "      <th>3</th>\n",
       "      <td>James Madison</td>\n",
       "      <td>Princeton</td>\n",
       "    </tr>\n",
       "    <tr>\n",
       "      <th>4</th>\n",
       "      <td>James Monroe</td>\n",
       "      <td>William and Mary</td>\n",
       "    </tr>\n",
       "    <tr>\n",
       "      <th>5</th>\n",
       "      <td>John Quincy Adams</td>\n",
       "      <td>Harvard</td>\n",
       "    </tr>\n",
       "    <tr>\n",
       "      <th>6</th>\n",
       "      <td>Andrew Jackson</td>\n",
       "      <td>None</td>\n",
       "    </tr>\n",
       "    <tr>\n",
       "      <th>7</th>\n",
       "      <td>Martin Van Buren</td>\n",
       "      <td>None</td>\n",
       "    </tr>\n",
       "    <tr>\n",
       "      <th>8</th>\n",
       "      <td>William Henry Harrison</td>\n",
       "      <td>Hampden-Sydney</td>\n",
       "    </tr>\n",
       "    <tr>\n",
       "      <th>9</th>\n",
       "      <td>James K. Polk</td>\n",
       "      <td>U. of North Carolina</td>\n",
       "    </tr>\n",
       "  </tbody>\n",
       "</table>\n",
       "</div>"
      ],
      "text/plain": [
       "                President               College\n",
       "0       George Washington                  None\n",
       "1              John Adams               Harvard\n",
       "2        Thomas Jefferson      William and Mary\n",
       "3           James Madison             Princeton\n",
       "4            James Monroe      William and Mary\n",
       "5       John Quincy Adams               Harvard\n",
       "6          Andrew Jackson                  None\n",
       "7       Martin Van Buren                   None\n",
       "8  William Henry Harrison        Hampden-Sydney\n",
       "9           James K. Polk  U. of North Carolina"
      ]
     },
     "execution_count": 51,
     "metadata": {},
     "output_type": "execute_result"
    }
   ],
   "source": [
    "df.iloc[0:10][['President', 'College']]\n",
    "# (1) 초대 대통령 10명의 이름과 대학을 추출\n",
    "#     하지만 컬럼명을 기술하는 것을 권장"
   ]
  },
  {
   "cell_type": "markdown",
   "metadata": {},
   "source": [
    "#### [ 결과 ]\n",
    "\n",
    "                President           College\n",
    "                \n",
    "    0      George Washington              None\n",
    "\n",
    "    1              John Adams           Harvard\n",
    "\n",
    "    2        Thomas Jefferson  William and Mary\n",
    "\n",
    "    3           James Madison         Princeton\n",
    "\n",
    "    4            James Monroe  William and Mary\n",
    "\n",
    "    5       John Quincy Adams           Harvard\n",
    "\n",
    "    6          Andrew Jackson              None\n",
    "\n",
    "    7       Martin Van Buren               None\n",
    "\n",
    "    8  William Henry Harrison    Hampden-Sydney\n"
   ]
  },
  {
   "cell_type": "markdown",
   "metadata": {},
   "source": [
    "### [추후] 미국대통령 데이타셋을 분석하고 정보를 도출하여 출력(시각화 권장)"
   ]
  }
 ],
 "metadata": {
  "kernelspec": {
   "display_name": "Python 3",
   "language": "python",
   "name": "python3"
  },
  "language_info": {
   "codemirror_mode": {
    "name": "ipython",
    "version": 3
   },
   "file_extension": ".py",
   "mimetype": "text/x-python",
   "name": "python",
   "nbconvert_exporter": "python",
   "pygments_lexer": "ipython3",
   "version": "3.6.5"
  }
 },
 "nbformat": 4,
 "nbformat_minor": 2
}
