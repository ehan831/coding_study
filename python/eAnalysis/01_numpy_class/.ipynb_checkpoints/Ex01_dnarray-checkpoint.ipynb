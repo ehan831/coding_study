{
 "cells": [
  {
   "cell_type": "markdown",
   "metadata": {},
   "source": [
    "# numpy\n",
    "\n",
    "\n",
    "- 행렬 / 선형대수 / 통계 패키지\n",
    "\n",
    "- 머신러닝의 이론적 백그라운드는 선형대수와 통계로 이루어져 있다\n",
    "\n",
    "- 사이킷런 같은 머신러닝 패키지가 넘파이 기반으로 되어 있다\n",
    "\n",
    "\n",
    "    * 머신러닝 알고리즘이나 사이파이와 같은 과학, 통계 지원용 패키지를 직접 만드는 개발이 아니라면\n",
    "    넘파이를 상세하기 알 필요는 없다지만, 넘파이를 이해하는 것이 파이썬 기반의 데이타분석과 머신러닝에 중요하다\n",
    "    \n",
    "    * 넘파이가 데이타 핸들링에 효율적으로 쉽고 편하고 할 수 없다.\n",
    "      그러나 데이타 핸들링에 주로 사용하는 판다스도 많은 부분이 넘파이를 기반으로 만들어져 있다.\n",
    "    \n",
    "    * ndarray \n",
    "        - 넘파이 기반 데이타 타입\n",
    "        - np.array()       "
   ]
  },
  {
   "cell_type": "code",
   "execution_count": 7,
   "metadata": {},
   "outputs": [
    {
     "name": "stdout",
     "output_type": "stream",
     "text": [
      "[[1 2 3]\n",
      " [9 8 7]]\n",
      "<class 'numpy.ndarray'>\n",
      "(2, 3)\n"
     ]
    }
   ],
   "source": [
    "import numpy as np\n",
    "\n",
    "list_1 = [1,2,3]\n",
    "list_2 = [9,8,7]\n",
    "\n",
    "arr = np.array([list_1, list_2])\n",
    "\n",
    "print(arr)\n",
    "print(type(arr))\n",
    "print(arr.shape)"
   ]
  },
  {
   "cell_type": "code",
   "execution_count": null,
   "metadata": {},
   "outputs": [],
   "source": [
    "# 두 번쨰 행에 두 번쨰 열의 값을 100으로 지정\n"
   ]
  },
  {
   "cell_type": "code",
   "execution_count": 8,
   "metadata": {},
   "outputs": [],
   "source": [
    "arr?"
   ]
  },
  {
   "cell_type": "code",
   "execution_count": 14,
   "metadata": {},
   "outputs": [
    {
     "name": "stdout",
     "output_type": "stream",
     "text": [
      "[1 2 3]\n",
      "[[1 2 3]]\n",
      "(3,)\n",
      "(1, 3)\n",
      "1 차원\n",
      "2 차원\n"
     ]
    }
   ],
   "source": [
    "arr1 = np.array([1,2,3])\n",
    "arr2 = np.array([[1,2,3]])\n",
    "\n",
    "print(arr1)\n",
    "print(arr2)\n",
    "print(arr1.shape) # 1차원 튜플로 3개의 요소를 가짐\n",
    "print(arr2.shape) # 1행 3열을 가진 2차원 요소\n",
    "\n",
    "# 차원수를 확인\n",
    "print(arr1.ndim, '차원')\n",
    "print(arr2.ndim, '차원')"
   ]
  },
  {
   "cell_type": "markdown",
   "metadata": {},
   "source": [
    "### 자료형"
   ]
  },
  {
   "cell_type": "code",
   "execution_count": 16,
   "metadata": {},
   "outputs": [
    {
     "name": "stdout",
     "output_type": "stream",
     "text": [
      "<class 'numpy.ndarray'>\n",
      "int64\n"
     ]
    }
   ],
   "source": [
    "print(type(arr))\n",
    "\n",
    "# 요소의 자료형 확인\n",
    "print(arr.dtype)"
   ]
  },
  {
   "cell_type": "code",
   "execution_count": 17,
   "metadata": {},
   "outputs": [
    {
     "data": {
      "text/plain": [
       "array([[1., 2., 3.],\n",
       "       [9., 8., 7.]])"
      ]
     },
     "execution_count": 17,
     "metadata": {},
     "output_type": "execute_result"
    }
   ],
   "source": [
    "# 요소의 자료형 변경\n",
    "arr3 = arr.astype(np.float64)\n",
    "arr3"
   ]
  },
  {
   "cell_type": "code",
   "execution_count": 22,
   "metadata": {},
   "outputs": [
    {
     "name": "stdout",
     "output_type": "stream",
     "text": [
      "<class 'list'>\n",
      "<class 'numpy.ndarray'>\n",
      "int64\n"
     ]
    }
   ],
   "source": [
    "# 자료형 변경\n",
    "\n",
    "list1 = [1,2,3,6]\n",
    "print(type(list1))\n",
    "\n",
    "list2 = np.array(list1)\n",
    "print(type(list2))\n",
    "print(list2.dtype)  # int64"
   ]
  },
  {
   "cell_type": "code",
   "execution_count": 23,
   "metadata": {
    "scrolled": true
   },
   "outputs": [
    {
     "name": "stdout",
     "output_type": "stream",
     "text": [
      "<class 'list'>\n",
      "<class 'numpy.ndarray'>\n",
      "<U32\n"
     ]
    }
   ],
   "source": [
    "# 자료형 변경\n",
    "\n",
    "list1 = [1,2.8,'python']\n",
    "print(type(list1))\n",
    "\n",
    "list2 = np.array(list1)\n",
    "print(type(list2))\n",
    "print(list2.dtype)  # u32\n",
    "  # [결과] <u32   : Unicode 문자열 "
   ]
  },
  {
   "cell_type": "code",
   "execution_count": 1,
   "metadata": {},
   "outputs": [],
   "source": []
  },
  {
   "cell_type": "markdown",
   "metadata": {},
   "source": [
    "### nparray를 편리하게 생성\n",
    "\n",
    "* arange() : 범위를 이용한 배열 만들기\n",
    "* zeros() : 0으로 채우는 배열 만들기\n",
    "* ones() : 1로 채우는 배열 만들기"
   ]
  },
  {
   "cell_type": "code",
   "execution_count": 25,
   "metadata": {},
   "outputs": [
    {
     "name": "stdout",
     "output_type": "stream",
     "text": [
      "[0 1 2 3 4 5 6 7 8 9]\n",
      "<class 'numpy.ndarray'>\n",
      "[ 1  2  3  4  5  6  7  8  9 10]\n",
      "<class 'numpy.ndarray'>\n",
      "[ 1  4  7 10]\n"
     ]
    }
   ],
   "source": [
    "a = np.arange(10)\n",
    "print(a)\n",
    "print(type(a))\n",
    "\n",
    "b = np.arange(1, 11)\n",
    "print(b)\n",
    "print(type(b))\n",
    "\n",
    "c = np.arange(1, 11, 3)\n",
    "print(c)"
   ]
  },
  {
   "cell_type": "code",
   "execution_count": 30,
   "metadata": {},
   "outputs": [
    {
     "name": "stdout",
     "output_type": "stream",
     "text": [
      "<class 'numpy.ndarray'>\n",
      "float64\n"
     ]
    }
   ],
   "source": [
    "a2 = np.zeros((5,5))\n",
    "a2\n",
    "print(type(a2))\n",
    "print(a2.dtype)  # float64"
   ]
  },
  {
   "cell_type": "code",
   "execution_count": 31,
   "metadata": {},
   "outputs": [
    {
     "data": {
      "text/plain": [
       "array([[1, 1, 1, 1],\n",
       "       [1, 1, 1, 1],\n",
       "       [1, 1, 1, 1]], dtype=int32)"
      ]
     },
     "execution_count": 31,
     "metadata": {},
     "output_type": "execute_result"
    }
   ],
   "source": [
    "a3 = np.ones((3,4), dtype='int32')\n",
    "a3"
   ]
  },
  {
   "cell_type": "markdown",
   "metadata": {},
   "source": [
    "### ndarray의 차원과 크기를 변경 : reshape()"
   ]
  },
  {
   "cell_type": "code",
   "execution_count": 34,
   "metadata": {},
   "outputs": [
    {
     "name": "stdout",
     "output_type": "stream",
     "text": [
      "[0 1 2 3 4 5 6 7 8 9]\n",
      "<class 'numpy.ndarray'>\n",
      "int64\n",
      "(10,)\n",
      "1\n"
     ]
    }
   ],
   "source": [
    "arr = np.arange(10)\n",
    "print(arr)\n",
    "print(type(arr))\n",
    "print(arr.dtype)\n",
    "print(arr.shape)\n",
    "print(arr.ndim)"
   ]
  },
  {
   "cell_type": "code",
   "execution_count": 35,
   "metadata": {
    "scrolled": true
   },
   "outputs": [
    {
     "name": "stdout",
     "output_type": "stream",
     "text": [
      "int64\n",
      "(2, 5)\n",
      "2\n"
     ]
    }
   ],
   "source": [
    "arr2 = arr.reshape(2,5)\n",
    "print(arr2.dtype)\n",
    "print(arr2.shape)\n",
    "print(arr2.ndim)"
   ]
  },
  {
   "cell_type": "code",
   "execution_count": 36,
   "metadata": {},
   "outputs": [
    {
     "ename": "ValueError",
     "evalue": "cannot reshape array of size 10 into shape (3,3)",
     "output_type": "error",
     "traceback": [
      "\u001b[0;31m---------------------------------------------------------------------------\u001b[0m",
      "\u001b[0;31mValueError\u001b[0m                                Traceback (most recent call last)",
      "\u001b[0;32m<ipython-input-36-171df4ae626c>\u001b[0m in \u001b[0;36m<module>\u001b[0;34m()\u001b[0m\n\u001b[0;32m----> 1\u001b[0;31m \u001b[0marr3\u001b[0m \u001b[0;34m=\u001b[0m \u001b[0marr\u001b[0m\u001b[0;34m.\u001b[0m\u001b[0mreshape\u001b[0m\u001b[0;34m(\u001b[0m\u001b[0;36m3\u001b[0m\u001b[0;34m,\u001b[0m\u001b[0;36m3\u001b[0m\u001b[0;34m)\u001b[0m\u001b[0;34m\u001b[0m\u001b[0m\n\u001b[0m\u001b[1;32m      2\u001b[0m \u001b[0mprint\u001b[0m\u001b[0;34m(\u001b[0m\u001b[0marr3\u001b[0m\u001b[0;34m.\u001b[0m\u001b[0mdtype\u001b[0m\u001b[0;34m)\u001b[0m\u001b[0;34m\u001b[0m\u001b[0m\n\u001b[1;32m      3\u001b[0m \u001b[0mprint\u001b[0m\u001b[0;34m(\u001b[0m\u001b[0marr3\u001b[0m\u001b[0;34m.\u001b[0m\u001b[0mshape\u001b[0m\u001b[0;34m)\u001b[0m\u001b[0;34m\u001b[0m\u001b[0m\n\u001b[1;32m      4\u001b[0m \u001b[0mprint\u001b[0m\u001b[0;34m(\u001b[0m\u001b[0marr3\u001b[0m\u001b[0;34m.\u001b[0m\u001b[0mndim\u001b[0m\u001b[0;34m)\u001b[0m\u001b[0;34m\u001b[0m\u001b[0m\n",
      "\u001b[0;31mValueError\u001b[0m: cannot reshape array of size 10 into shape (3,3)"
     ]
    }
   ],
   "source": [
    "# arr3 = arr.reshape(3,3)\n",
    "# print(arr3.dtype)\n",
    "# print(arr3.shape)\n",
    "# print(arr3.ndim)\n",
    "\n",
    "# ValueError: cannot reshape array of size 10 into shape (3,3)"
   ]
  },
  {
   "cell_type": "code",
   "execution_count": 37,
   "metadata": {
    "scrolled": true
   },
   "outputs": [
    {
     "ename": "ValueError",
     "evalue": "cannot reshape array of size 10 into shape (4,3)",
     "output_type": "error",
     "traceback": [
      "\u001b[0;31m---------------------------------------------------------------------------\u001b[0m",
      "\u001b[0;31mValueError\u001b[0m                                Traceback (most recent call last)",
      "\u001b[0;32m<ipython-input-37-db190d539a43>\u001b[0m in \u001b[0;36m<module>\u001b[0;34m()\u001b[0m\n\u001b[0;32m----> 1\u001b[0;31m \u001b[0marr3\u001b[0m \u001b[0;34m=\u001b[0m \u001b[0marr\u001b[0m\u001b[0;34m.\u001b[0m\u001b[0mreshape\u001b[0m\u001b[0;34m(\u001b[0m\u001b[0;36m4\u001b[0m\u001b[0;34m,\u001b[0m\u001b[0;36m3\u001b[0m\u001b[0;34m)\u001b[0m\u001b[0;34m\u001b[0m\u001b[0m\n\u001b[0m\u001b[1;32m      2\u001b[0m \u001b[0mprint\u001b[0m\u001b[0;34m(\u001b[0m\u001b[0marr3\u001b[0m\u001b[0;34m.\u001b[0m\u001b[0mdtype\u001b[0m\u001b[0;34m)\u001b[0m\u001b[0;34m\u001b[0m\u001b[0m\n\u001b[1;32m      3\u001b[0m \u001b[0mprint\u001b[0m\u001b[0;34m(\u001b[0m\u001b[0marr3\u001b[0m\u001b[0;34m.\u001b[0m\u001b[0mshape\u001b[0m\u001b[0;34m)\u001b[0m\u001b[0;34m\u001b[0m\u001b[0m\n\u001b[1;32m      4\u001b[0m \u001b[0mprint\u001b[0m\u001b[0;34m(\u001b[0m\u001b[0marr3\u001b[0m\u001b[0;34m.\u001b[0m\u001b[0mndim\u001b[0m\u001b[0;34m)\u001b[0m\u001b[0;34m\u001b[0m\u001b[0m\n",
      "\u001b[0;31mValueError\u001b[0m: cannot reshape array of size 10 into shape (4,3)"
     ]
    }
   ],
   "source": [
    "arr3 = arr.reshape(4,3)\n",
    "print(arr3.dtype)\n",
    "print(arr3.shape)\n",
    "print(arr3.ndim)\n",
    "\n",
    "# ValueError: cannot reshape array of size 10 into shape (4,3)"
   ]
  },
  {
   "cell_type": "code",
   "execution_count": 39,
   "metadata": {},
   "outputs": [
    {
     "name": "stdout",
     "output_type": "stream",
     "text": [
      "[ 0  1  2  3  4  5  6  7  8  9 10 11 12 13 14 15 16 17 18 19]\n",
      "[[ 0  1  2  3]\n",
      " [ 4  5  6  7]\n",
      " [ 8  9 10 11]\n",
      " [12 13 14 15]\n",
      " [16 17 18 19]]\n",
      "[[ 0  1]\n",
      " [ 2  3]\n",
      " [ 4  5]\n",
      " [ 6  7]\n",
      " [ 8  9]\n",
      " [10 11]\n",
      " [12 13]\n",
      " [14 15]\n",
      " [16 17]\n",
      " [18 19]]\n"
     ]
    },
    {
     "ename": "ValueError",
     "evalue": "cannot reshape array of size 20 into shape (3,newaxis)",
     "output_type": "error",
     "traceback": [
      "\u001b[0;31m---------------------------------------------------------------------------\u001b[0m",
      "\u001b[0;31mValueError\u001b[0m                                Traceback (most recent call last)",
      "\u001b[0;32m<ipython-input-39-a0cd4fee9b9e>\u001b[0m in \u001b[0;36m<module>\u001b[0;34m()\u001b[0m\n\u001b[1;32m     10\u001b[0m \u001b[0;34m\u001b[0m\u001b[0m\n\u001b[1;32m     11\u001b[0m \u001b[0;31m# 하나만 지정하고, 나머지는 니가 알아서 해줘\u001b[0m\u001b[0;34m\u001b[0m\u001b[0;34m\u001b[0m\u001b[0m\n\u001b[0;32m---> 12\u001b[0;31m \u001b[0marr4\u001b[0m \u001b[0;34m=\u001b[0m \u001b[0marr\u001b[0m\u001b[0;34m.\u001b[0m\u001b[0mreshape\u001b[0m\u001b[0;34m(\u001b[0m\u001b[0;36m3\u001b[0m\u001b[0;34m,\u001b[0m \u001b[0;34m-\u001b[0m\u001b[0;36m1\u001b[0m\u001b[0;34m)\u001b[0m\u001b[0;34m\u001b[0m\u001b[0m\n\u001b[0m\u001b[1;32m     13\u001b[0m \u001b[0mprint\u001b[0m\u001b[0;34m(\u001b[0m\u001b[0marr4\u001b[0m\u001b[0;34m)\u001b[0m\u001b[0;34m\u001b[0m\u001b[0m\n",
      "\u001b[0;31mValueError\u001b[0m: cannot reshape array of size 20 into shape (3,newaxis)"
     ]
    }
   ],
   "source": [
    "# -1 적용\n",
    "arr = np.arange(20)\n",
    "print(arr)\n",
    "\n",
    "arr2 = arr.reshape(5, -1)\n",
    "print(arr2)\n",
    "\n",
    "arr3 = arr.reshape(-1, 2)\n",
    "print(arr3)\n",
    "\n",
    "# 하나만 지정하고, 나머지는 니가 알아서 해줘\n",
    "# arr4 = arr.reshape(3, -1)\n",
    "# print(arr4)\n",
    "# ValueError: cannot reshape array of size 20 into shape (3,newaxis)\n",
    "# 알아서 하는 것도, 안되는건 안된다."
   ]
  },
  {
   "cell_type": "markdown",
   "metadata": {},
   "source": [
    "### 인덱싱: 특정 데이타 추출"
   ]
  },
  {
   "cell_type": "code",
   "execution_count": 42,
   "metadata": {},
   "outputs": [
    {
     "name": "stdout",
     "output_type": "stream",
     "text": [
      "[ 1  2  3  4  5  6  7  8  9 10]\n",
      "3\n",
      "8\n"
     ]
    }
   ],
   "source": [
    "#------------------------------------------ (1) 단일값 출력\n",
    "import numpy as np\n",
    "arr = np.arange(1, 11)\n",
    "print(arr)\n",
    "\n",
    "## 세번째 요소 추출 ( 0부터 인덱스)\n",
    "print(arr[2])\n",
    "\n",
    "## 뒤에서 세번째 요소 추출 ( 뒤에서 인덱스는 -1부터)\n",
    "print(arr[-3])"
   ]
  },
  {
   "cell_type": "code",
   "execution_count": 47,
   "metadata": {},
   "outputs": [
    {
     "name": "stdout",
     "output_type": "stream",
     "text": [
      "[[1 2 3]\n",
      " [4 5 6]\n",
      " [7 8 9]]\n",
      "6\n"
     ]
    }
   ],
   "source": [
    "## 1부터 9까지 nparray를 만들고 3행 3열 2차원 구조로 변경한후\n",
    "## 두번째 행의 세번째 열의 값 추출\n",
    "na = np.arange(1, 10)\n",
    "# na  # array([1, 2, 3, 4, 5, 6, 7, 8, 9])\n",
    "na2 = na.reshape((3,3))\n",
    "print(na2)\n",
    "print(na2[1][2])\n"
   ]
  },
  {
   "cell_type": "code",
   "execution_count": 48,
   "metadata": {
    "scrolled": true
   },
   "outputs": [
    {
     "name": "stdout",
     "output_type": "stream",
     "text": [
      "[1 2 3 4 5 6 7 8 9]\n",
      "[1 2 3 4]\n"
     ]
    }
   ],
   "source": [
    "#------------------------------------------ (2) 슬라이싱 (:)\n",
    "arr = np.arange(1, 10)\n",
    "print(arr)\n",
    "print(arr[:4])\n"
   ]
  },
  {
   "cell_type": "code",
   "execution_count": 85,
   "metadata": {},
   "outputs": [
    {
     "name": "stdout",
     "output_type": "stream",
     "text": [
      "[[1 2 3]\n",
      " [4 5 6]\n",
      " [7 8 9]]\n",
      "[[1 2]\n",
      " [4 5]]\n",
      "[[4 5 6]\n",
      " [7 8 9]]\n",
      "[[2 3]\n",
      " [5 6]]\n",
      "[1 4]\n",
      "[[1 2 3]\n",
      " [4 5 6]\n",
      " [7 8 9]]\n"
     ]
    }
   ],
   "source": [
    "# 2차원 배열에서 생성\n",
    "\"\"\"\n",
    "    1 2 3\n",
    "    4 5 6\n",
    "    7 8 9\n",
    "\"\"\"\n",
    "\n",
    "arr = np.arange(1, 10)\n",
    "ndarr = arr.reshape(3,3)\n",
    "print(ndarr)\n",
    "    \n",
    "## 그림에서 1, 2, 4, 5 추출\n",
    "print(ndarr[:2,:2])\n",
    "\n",
    "## 그림에서 4, 5, 6, 7, 8, 9 추출\n",
    "print(ndarr[1:3])\n",
    "\n",
    "## 그림에서 2, 3, 5, 6 추출\n",
    "print(ndarr[0:2,1:3])\n",
    "\n",
    "## 그림에서 1, 4 추출\n",
    "print(ndarr[0:2,0])\n",
    "\n",
    "## 그림에서 전체 요소 추출\n",
    "print(ndarr[:,:])\n"
   ]
  },
  {
   "cell_type": "code",
   "execution_count": 90,
   "metadata": {},
   "outputs": [
    {
     "name": "stdout",
     "output_type": "stream",
     "text": [
      "5\n",
      "[4 5 6]\n",
      "0\n",
      "1\n"
     ]
    }
   ],
   "source": [
    "# 2차원 ndarray에서 뒤의 오는 인덱스가 없으면 1차원으로 반환\n",
    "# 3차원 ndarray에서 뒤의 오는 인덱스가 없으면 2차원으로 반환\n",
    "print(ndarr[1][1])\n",
    "print(ndarr[1])\n",
    "\n",
    "print(ndarr[1][1].ndim)\n",
    "print(ndarr[1].ndim)"
   ]
  },
  {
   "cell_type": "code",
   "execution_count": 105,
   "metadata": {},
   "outputs": [
    {
     "name": "stdout",
     "output_type": "stream",
     "text": [
      "[[1 2 3]\n",
      " [4 5 6]\n",
      " [7 8 9]]\n",
      "[[1 2]\n",
      " [4 5]]\n",
      "[[1 2]\n",
      " [4 5]]\n",
      "[[4 5 6]\n",
      " [7 8 9]]\n",
      "[[2 3]\n",
      " [5 6]]\n",
      "[1 4]\n",
      "[3 6]\n"
     ]
    }
   ],
   "source": [
    "# 슬라이싱[:]과 인덱스선택을 결합\n",
    "\n",
    "\"\"\"\n",
    "    1 2 3\n",
    "    4 5 6\n",
    "    7 8 9\n",
    "\"\"\"\n",
    "import numpy as np\n",
    "arr = np.arange(1, 10)\n",
    "ndarr = arr.reshape(3,3)\n",
    "print(ndarr)\n",
    "\n",
    "## 그림에서 1, 2, 4, 5 추출\n",
    "print(ndarr[[0,1],:2])\n",
    "print(ndarr[:2,:2])\n",
    "# print(ndarr[[0,1],[0,1]]) # [1 5] 결과가 다르다.\n",
    "\n",
    "## 그림에서 4, 5, 6, 7, 8, 9 추출\n",
    "print(ndarr[[1,2],:3])\n",
    "\n",
    "## 그림에서 2, 3, 5, 6 추출\n",
    "print(ndarr[:2,[1,2]])\n",
    "\n",
    "## 그림에서 1, 4 추출\n",
    "print(ndarr[[0,1],[0]])\n",
    "\n",
    "## 그림에서 3, 6 추출\n",
    "print(ndarr[[0,1],[2]])\n",
    "\n",
    "# 지금은 너무 간단하다고 여기지만 추후에 데이타에서 많이 헷갈려서 여기서 시간 소요를 많이 한다"
   ]
  },
  {
   "cell_type": "code",
   "execution_count": 117,
   "metadata": {},
   "outputs": [
    {
     "name": "stdout",
     "output_type": "stream",
     "text": [
      "[[1 2 3]\n",
      " [4 5 6]\n",
      " [7 8 9]]\n",
      "[[False False False]\n",
      " [False False  True]\n",
      " [ True  True  True]]\n",
      "[6 7 8 9]\n",
      "8\n",
      "[[ 1  2  3]\n",
      " [ 4  5  6]\n",
      " [ 7 88  9]]\n",
      "88\n"
     ]
    }
   ],
   "source": [
    "#------------------------------------------ (3) 블린인덱싱\n",
    "# 조건 필터링과 검색을 같이 하기에 자주 사용\n",
    "\n",
    "arr = np.arange(1, 10)\n",
    "ndarr = arr.reshape(3,3)\n",
    "print(ndarr)\n",
    "\n",
    "# 5보다 큰 요소들 추출\n",
    "print(ndarr > 5)\n",
    "'''\n",
    "[[False False False]\n",
    " [False False  True]\n",
    " [ True  True  True]]\n",
    "'''\n",
    "print(ndarr[ndarr>5]) # True 값만 추출\n",
    "\n",
    "# 8값 요소를 88로 변경\n",
    "# print(ndarr == 8)\n",
    "ndarr[ndarr == 8] = 88 # ndarr[2,1]\n",
    "print(ndarr)\n",
    "print(ndarr[2,1])  # 88\n"
   ]
  },
  {
   "cell_type": "code",
   "execution_count": null,
   "metadata": {},
   "outputs": [],
   "source": []
  }
 ],
 "metadata": {
  "kernelspec": {
   "display_name": "Python 3",
   "language": "python",
   "name": "python3"
  },
  "language_info": {
   "codemirror_mode": {
    "name": "ipython",
    "version": 3
   },
   "file_extension": ".py",
   "mimetype": "text/x-python",
   "name": "python",
   "nbconvert_exporter": "python",
   "pygments_lexer": "ipython3",
   "version": "3.6.5"
  }
 },
 "nbformat": 4,
 "nbformat_minor": 2
}
