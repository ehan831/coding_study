{
 "cells": [
  {
   "cell_type": "markdown",
   "metadata": {},
   "source": [
    "## 파이썬의 리스트와 튜플"
   ]
  },
  {
   "cell_type": "markdown",
   "metadata": {},
   "source": [
    "- 비교 정리\n",
    "    - 파이썬의 list / tuple\n",
    "    - numpy 의 dnarray\n",
    "    - pandas 의 dataframe / series"
   ]
  },
  {
   "cell_type": "code",
   "execution_count": 2,
   "metadata": {},
   "outputs": [
    {
     "name": "stdout",
     "output_type": "stream",
     "text": [
      "<class 'list'>\n",
      "<class 'tuple'>\n",
      "[22, 44, 11, ('길자', '길동', '길길')]\n",
      "<class 'list'>\n"
     ]
    }
   ],
   "source": [
    "## (1) 22, 44, 11 요소의 리스트 a_data 생성\n",
    "a_data = [22, 44, 11]\n",
    "print(type(a_data))\n",
    "\n",
    "## (2) 길자, 길동, 길길 요소의 튜플 b_data생성\n",
    "b_data = ('길자', '길동', '길길')\n",
    "print(type(b_data))\n",
    "\n",
    "## (3) b_data 튜플을 a_data 리스트에 추가\n",
    "a_data.append(b_data)\n",
    "print(a_data)\n",
    "print(type(a_data))"
   ]
  },
  {
   "cell_type": "code",
   "execution_count": 4,
   "metadata": {},
   "outputs": [
    {
     "name": "stdout",
     "output_type": "stream",
     "text": [
      "('길자', '길동')\n"
     ]
    }
   ],
   "source": [
    "## (4) b_data에서 2번째 요소까지 출력\n",
    "print(b_data[:2])"
   ]
  },
  {
   "cell_type": "code",
   "execution_count": 10,
   "metadata": {},
   "outputs": [
    {
     "name": "stdout",
     "output_type": "stream",
     "text": [
      "<class 'tuple'>\n",
      "[22, 44, 10, ('길자', '길동', '길길')]\n"
     ]
    }
   ],
   "source": [
    "## (5) a_data를 튜플로 변경\n",
    "##      11을 10으로 변경하려면?\n",
    "print(type(tuple(a_data)))\n",
    "a_data[2] = 10\n",
    "print(a_data)"
   ]
  },
  {
   "cell_type": "markdown",
   "metadata": {},
   "source": [
    "##  리스트 복습\n",
    "\n",
    "- append(추가요소) : 리스트 맨 마지막에 하나 추가\n",
    "\n",
    "- pop() : 마지막요소를 지움\n",
    "\n",
    "- extend([추가요소들]) : 리스트 마지막에 여러 개 추가\n",
    "\n",
    "- remove('요소값') : 해당 요소값 지움\n",
    "\n",
    "---\n",
    "\n",
    "- insert(idx, '데이타') : 원하는 위치에 자료 삽입\n",
    "\n",
    "---\n",
    "[슬라이싱]\n",
    "\n",
    "- 리스트명(n:m) : n부터 m-1까지 데이타 추출\n"
   ]
  },
  {
   "cell_type": "code",
   "execution_count": 12,
   "metadata": {},
   "outputs": [
    {
     "data": {
      "text/plain": [
       "['어밴져스', '기생충', '가디언스갤럭시', '어떤영화', '유명한 영화']"
      ]
     },
     "execution_count": 12,
     "metadata": {},
     "output_type": "execute_result"
    }
   ],
   "source": [
    "movies = ['어밴져스','기생충','가디언스갤럭시','어떤영화','유명한 영화']\n",
    "movies"
   ]
  },
  {
   "cell_type": "markdown",
   "metadata": {},
   "source": [
    "(1) '어젠져스2' 추가"
   ]
  },
  {
   "cell_type": "code",
   "execution_count": 13,
   "metadata": {},
   "outputs": [
    {
     "data": {
      "text/plain": [
       "['어밴져스', '기생충', '가디언스갤럭시', '어떤영화', '유명한 영화', '어밴져스2']"
      ]
     },
     "execution_count": 13,
     "metadata": {},
     "output_type": "execute_result"
    }
   ],
   "source": [
    "movies.append('어밴져스2')\n",
    "movies"
   ]
  },
  {
   "cell_type": "markdown",
   "metadata": {},
   "source": [
    "(2) 마지막요소 제거"
   ]
  },
  {
   "cell_type": "code",
   "execution_count": 14,
   "metadata": {},
   "outputs": [
    {
     "data": {
      "text/plain": [
       "['어밴져스', '기생충', '가디언스갤럭시', '어떤영화', '유명한 영화']"
      ]
     },
     "execution_count": 14,
     "metadata": {},
     "output_type": "execute_result"
    }
   ],
   "source": [
    "movies.pop()\n",
    "movies"
   ]
  },
  {
   "cell_type": "markdown",
   "metadata": {},
   "source": [
    "(3) '어벤져스2','기생충2' 요소를 한꺼번에 추가"
   ]
  },
  {
   "cell_type": "code",
   "execution_count": 31,
   "metadata": {},
   "outputs": [
    {
     "data": {
      "text/plain": [
       "['어밴져스', '기생충', '가디언스갤럭시', '오래된 영화', '어떤영화', '유명한 영화', '어벤져스2', '기생충2']"
      ]
     },
     "execution_count": 31,
     "metadata": {},
     "output_type": "execute_result"
    }
   ],
   "source": [
    "ex = ['어벤져스2', '기생충2']\n",
    "\n",
    "movies.extend(ex)\n",
    "movies"
   ]
  },
  {
   "cell_type": "markdown",
   "metadata": {},
   "source": [
    "(4) '어벤져스2' 요소 제거"
   ]
  },
  {
   "cell_type": "code",
   "execution_count": 32,
   "metadata": {},
   "outputs": [
    {
     "data": {
      "text/plain": [
       "['어밴져스', '기생충', '가디언스갤럭시', '오래된 영화', '어떤영화', '유명한 영화', '기생충2']"
      ]
     },
     "execution_count": 32,
     "metadata": {},
     "output_type": "execute_result"
    }
   ],
   "source": [
    "movies.remove('어벤져스2')\n",
    "movies"
   ]
  },
  {
   "cell_type": "markdown",
   "metadata": {},
   "source": [
    "(5) 4번째 위치에 '오래된 영화' 추가"
   ]
  },
  {
   "cell_type": "code",
   "execution_count": 21,
   "metadata": {},
   "outputs": [
    {
     "data": {
      "text/plain": [
       "['어밴져스', '기생충', '가디언스갤럭시', '오래된 영화', '어떤영화', '유명한 영화', ['어벤져스2', '기생충']]"
      ]
     },
     "execution_count": 21,
     "metadata": {},
     "output_type": "execute_result"
    }
   ],
   "source": [
    "movies.insert(3, '오래된 영화')\n",
    "movies"
   ]
  },
  {
   "cell_type": "markdown",
   "metadata": {},
   "source": [
    "(6) 영화목록에서 3번째에서 5번째까지 추출"
   ]
  },
  {
   "cell_type": "code",
   "execution_count": 22,
   "metadata": {},
   "outputs": [
    {
     "data": {
      "text/plain": [
       "['가디언스갤럭시', '오래된 영화', '어떤영화']"
      ]
     },
     "execution_count": 22,
     "metadata": {},
     "output_type": "execute_result"
    }
   ],
   "source": [
    "movies[2:5]"
   ]
  },
  {
   "cell_type": "code",
   "execution_count": 33,
   "metadata": {},
   "outputs": [
    {
     "data": {
      "text/plain": [
       "['어밴져스', '기생충', '가디언스갤럭시', '오래된 영화', '어떤영화', '유명한 영화', '기생충2']"
      ]
     },
     "execution_count": 33,
     "metadata": {},
     "output_type": "execute_result"
    }
   ],
   "source": [
    "movies"
   ]
  },
  {
   "cell_type": "markdown",
   "metadata": {},
   "source": []
  }
 ],
 "metadata": {
  "kernelspec": {
   "display_name": "Python 3",
   "language": "python",
   "name": "python3"
  },
  "language_info": {
   "codemirror_mode": {
    "name": "ipython",
    "version": 3
   },
   "file_extension": ".py",
   "mimetype": "text/x-python",
   "name": "python",
   "nbconvert_exporter": "python",
   "pygments_lexer": "ipython3",
   "version": "3.6.5"
  }
 },
 "nbformat": 4,
 "nbformat_minor": 2
}
